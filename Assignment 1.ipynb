{
 "cells": [
  {
   "cell_type": "markdown",
   "id": "58e7af25",
   "metadata": {},
   "source": [
    "1. In the below elements which of them are values or an expression? eg:- values can be\n",
    "integer or string and expressions will be mathematical operators.\n",
    "\n",
    "\"hello\"  :- values\n",
    "-87.8    :- values\n",
    " -       :- expression\n",
    "  +      :- expression\n",
    "  /      :- expression\n",
    "  6.     :- values"
   ]
  },
  {
   "cell_type": "code",
   "execution_count": null,
   "id": "61f4351b",
   "metadata": {},
   "outputs": [],
   "source": [
    "2. What is the difference between string and variable?\n",
    "\n",
    "   ->String is a collection of characters and variable is just a object that holds a different \n",
    "    types of datatypes and holds a memory ,so we can utilize it.\n",
    "    ->string can be assigned in \"\"(double quotes) and ''(single quotes).\n",
    "    ->variable can be assigned by = opeerator.\n",
    "    "
   ]
  },
  {
   "cell_type": "code",
   "execution_count": null,
   "id": "407f4b14",
   "metadata": {},
   "outputs": [],
   "source": [
    "3. Describe three different data types.\n",
    "   There are three data types are list,tuple,dictionary.\n",
    "   1.list \n",
    "        ->List is built in datatype which can store multiple elements. also list is a mutable, we can make a changes in\n",
    "        it.\n",
    "        ->list are ordered collection and it has indexes starting from 0 to n in forward direction and -1 to n in \n",
    "        ->backward direction. List should be written in sqaure braces.\n",
    "        list is changeable, meaning that we can change, add, and remove items in a list after it has been created.\n",
    "   2.Tuple\n",
    "        ->Tuple is built in datatype which can store multiple elements. also tuple is a immutable, we cann't make a  \n",
    "        changes in it.\n",
    "        ->Tuple in in ordered collection but unchangeble.it should be written in round braces.it has indexes starting \n",
    "        from 0 to n in forward direction and -1 to n in backward direction.\n",
    "        ->Tuple is unchangeable, meaning that we cannot change, add or remove items after the tuple has been created.\n",
    "   3.dictionary\n",
    "        ->Dictionaries are used to store data values in key and value pairs.\n",
    "        ->dictionary is a collection which is ordered, changeable and do not allow duplicates. it should be written in \n",
    "        curley braces."
   ]
  },
  {
   "cell_type": "code",
   "execution_count": null,
   "id": "e3627c0d",
   "metadata": {},
   "outputs": [],
   "source": [
    "4. What is an expression made up of? What do all expressions do?\n",
    "\n",
    "    ->An expression is an instruction that combines values and operators and always evaluates down to a single value.\n",
    "        ex. 2+2\n",
    "\n",
    "   "
   ]
  },
  {
   "cell_type": "code",
   "execution_count": null,
   "id": "45f656d3",
   "metadata": {},
   "outputs": [],
   "source": [
    "5. This assignment statements, like spam = 10. What is the difference between an\n",
    "expression and a statement?\n",
    "\n",
    "    -> If you can print it, or assign it to a variable, it’s an expression. If you can’t, it’s a statement.\n",
    "\n"
   ]
  },
  {
   "cell_type": "code",
   "execution_count": null,
   "id": "4038e38a",
   "metadata": {},
   "outputs": [],
   "source": [
    "6. After running the following code, what does the variable bacon contain?\n",
    "\n",
    "bacon = 22\n",
    "bacon + 1\n",
    "       bacon will be 23."
   ]
  },
  {
   "cell_type": "code",
   "execution_count": 5,
   "id": "5327f9bc",
   "metadata": {},
   "outputs": [
    {
     "name": "stdout",
     "output_type": "stream",
     "text": [
      "spamspamspam\n",
      "spamspamspam\n"
     ]
    }
   ],
   "source": [
    "#7. What should the values of the following two terms be?\n",
    "print(\"spam\" + \"spamspam\")\n",
    "print(\"spam\" * 3)"
   ]
  },
  {
   "cell_type": "code",
   "execution_count": null,
   "id": "39149bf7",
   "metadata": {},
   "outputs": [],
   "source": [
    "8. Why is eggs a valid variable name while 100 is invalid?\n",
    "\n",
    "   because number is treated as a integer. while character will be easy to store datatypes."
   ]
  },
  {
   "cell_type": "code",
   "execution_count": null,
   "id": "9369f9ac",
   "metadata": {},
   "outputs": [],
   "source": [
    "9. What three functions can be used to get the integer, floating-point number, or string\n",
    "version of a value?\n",
    "    int(),float(),str()"
   ]
  },
  {
   "cell_type": "code",
   "execution_count": null,
   "id": "a4438482",
   "metadata": {},
   "outputs": [],
   "source": [
    "10. Why does this expression cause an error? How can you fix it?\n",
    "\"I have eaten\"  + 99 + \"burritos\";\n",
    "\n",
    "  -> we can not add string with integer. First we have to do type conversion.\n",
    "    \"I have eaten\"  + str(99) + \"burritos\";"
   ]
  }
 ],
 "metadata": {
  "kernelspec": {
   "display_name": "Python 3 (ipykernel)",
   "language": "python",
   "name": "python3"
  },
  "language_info": {
   "codemirror_mode": {
    "name": "ipython",
    "version": 3
   },
   "file_extension": ".py",
   "mimetype": "text/x-python",
   "name": "python",
   "nbconvert_exporter": "python",
   "pygments_lexer": "ipython3",
   "version": "3.9.7"
  }
 },
 "nbformat": 4,
 "nbformat_minor": 5
}
